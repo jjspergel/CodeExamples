{
 "cells": [
  {
   "cell_type": "code",
   "execution_count": 1,
   "metadata": {},
   "outputs": [],
   "source": [
    "# Reservoir Analysis for Bear Creek"
   ]
  },
  {
   "cell_type": "code",
   "execution_count": 1,
   "metadata": {},
   "outputs": [],
   "source": [
    "from tqdm import tqdm"
   ]
  },
  {
   "cell_type": "code",
   "execution_count": 2,
   "metadata": {},
   "outputs": [],
   "source": [
    "import numpy as np\n",
    "import pandas as pd\n",
    "import datetime as dt\n",
    "from matplotlib import pyplot as plt\n",
    "\n",
    "import pyproj as proj"
   ]
  },
  {
   "cell_type": "code",
   "execution_count": 66,
   "metadata": {},
   "outputs": [],
   "source": [
    "# Physical Data\n",
    "MG_to_cfs = 1.547 #cfs*day^-1/1e6 gallons*day^-1\n",
    "seconds_in_day = 24*60*60\n",
    "AF_to_ft3 = 43560 \n",
    "\n",
    "\n",
    "DA_arcade = 332 #drainage area of Arcade (sq mi)\n",
    "flow_pumpsite = 60.4 # non-depletable flow at pumpsite (cfs)\n",
    "pump_capacity =  92.82 #cfs\n",
    "DA_reservoir = 8.215234375 #sq mi\n",
    "flow_reservoir_min = 4 #non-depletable flow out of reservoir (cfs)\n",
    "SAE = pd.read_csv('BEAM_bearcreekSAE.csv')\n",
    "#SAE['Cumulative Percentage of Volume'] = np.float_([str.strip(percent,'%') for percent in SAE['Cumulative Percentage of Volume']])\n",
    "SAE_volume = SAE['Storage']\n",
    "SAE_surfacearea = SAE['Area']\n",
    "maximum_storage = max(SAE_volume)#np.float(MG_to_cfs*SAE[SAE['Cumulative Percentage of Volume']==100]['Reservoir Volume \\n(MG)'])#maximum storage of reservoir, converted to cfs \n",
    "minimum_storage = MG_to_cfs * 637\n",
    "\n",
    "arcade_flow=pd.read_csv('gage_streamflow_cfs.txt',sep='\\t',skiprows=[0,1,2],names=['date','flow'])\n",
    "l =  len(arcade_flow)\n",
    "arcade_flow=pd.read_csv('gage_streamflow_cfs.txt',sep='\\t',skiprows=[0,1,2],names=['date','flow'],parse_dates=True)\n",
    "arcade_flow.drop(arcade_flow.tail(3).index,inplace=True)"
   ]
  },
  {
   "cell_type": "code",
   "execution_count": 71,
   "metadata": {},
   "outputs": [],
   "source": [
    "dates  = arcade_flow.date.astype(np.datetime64)"
   ]
  },
  {
   "cell_type": "code",
   "execution_count": 70,
   "metadata": {},
   "outputs": [],
   "source": [
    "UIF = pd.read_csv('bearcreekreservoir_UIF_evap.txt',sep='\\t', header=0, skiprows=[1,2],\n",
    "                 names=['date','evap','stor','elev','totIn'])"
   ]
  },
  {
   "cell_type": "code",
   "execution_count": 43,
   "metadata": {},
   "outputs": [
    {
     "data": {
      "text/html": [
       "<div>\n",
       "<style scoped>\n",
       "    .dataframe tbody tr th:only-of-type {\n",
       "        vertical-align: middle;\n",
       "    }\n",
       "\n",
       "    .dataframe tbody tr th {\n",
       "        vertical-align: top;\n",
       "    }\n",
       "\n",
       "    .dataframe thead th {\n",
       "        text-align: right;\n",
       "    }\n",
       "</style>\n",
       "<table border=\"1\" class=\"dataframe\">\n",
       "  <thead>\n",
       "    <tr style=\"text-align: right;\">\n",
       "      <th></th>\n",
       "      <th>date</th>\n",
       "      <th>evap</th>\n",
       "      <th>stor</th>\n",
       "      <th>elev</th>\n",
       "      <th>totIn</th>\n",
       "    </tr>\n",
       "  </thead>\n",
       "  <tbody>\n",
       "    <tr>\n",
       "      <th>0</th>\n",
       "      <td>01/01/1939</td>\n",
       "      <td>1.21</td>\n",
       "      <td>7552.05</td>\n",
       "      <td>350.39</td>\n",
       "      <td>2.96</td>\n",
       "    </tr>\n",
       "    <tr>\n",
       "      <th>1</th>\n",
       "      <td>01/02/1939</td>\n",
       "      <td>1.24</td>\n",
       "      <td>7552.05</td>\n",
       "      <td>350.39</td>\n",
       "      <td>5.24</td>\n",
       "    </tr>\n",
       "    <tr>\n",
       "      <th>2</th>\n",
       "      <td>01/03/1939</td>\n",
       "      <td>1.39</td>\n",
       "      <td>7552.05</td>\n",
       "      <td>350.39</td>\n",
       "      <td>5.39</td>\n",
       "    </tr>\n",
       "    <tr>\n",
       "      <th>3</th>\n",
       "      <td>01/04/1939</td>\n",
       "      <td>1.12</td>\n",
       "      <td>7552.05</td>\n",
       "      <td>350.39</td>\n",
       "      <td>5.12</td>\n",
       "    </tr>\n",
       "    <tr>\n",
       "      <th>4</th>\n",
       "      <td>01/05/1939</td>\n",
       "      <td>-11.97</td>\n",
       "      <td>7552.05</td>\n",
       "      <td>350.39</td>\n",
       "      <td>3.34</td>\n",
       "    </tr>\n",
       "    <tr>\n",
       "      <th>...</th>\n",
       "      <td>...</td>\n",
       "      <td>...</td>\n",
       "      <td>...</td>\n",
       "      <td>...</td>\n",
       "      <td>...</td>\n",
       "    </tr>\n",
       "    <tr>\n",
       "      <th>29215</th>\n",
       "      <td>12/27/2018</td>\n",
       "      <td>-6.15</td>\n",
       "      <td>7552.05</td>\n",
       "      <td>350.39</td>\n",
       "      <td>13.58</td>\n",
       "    </tr>\n",
       "    <tr>\n",
       "      <th>29216</th>\n",
       "      <td>12/28/2018</td>\n",
       "      <td>-12.62</td>\n",
       "      <td>7552.05</td>\n",
       "      <td>350.39</td>\n",
       "      <td>27.82</td>\n",
       "    </tr>\n",
       "    <tr>\n",
       "      <th>29217</th>\n",
       "      <td>12/29/2018</td>\n",
       "      <td>-0.09</td>\n",
       "      <td>7552.05</td>\n",
       "      <td>350.39</td>\n",
       "      <td>82.71</td>\n",
       "    </tr>\n",
       "    <tr>\n",
       "      <th>29218</th>\n",
       "      <td>12/30/2018</td>\n",
       "      <td>-5.17</td>\n",
       "      <td>7552.05</td>\n",
       "      <td>350.39</td>\n",
       "      <td>66.16</td>\n",
       "    </tr>\n",
       "    <tr>\n",
       "      <th>29219</th>\n",
       "      <td>12/31/2018</td>\n",
       "      <td>-0.41</td>\n",
       "      <td>7552.05</td>\n",
       "      <td>350.39</td>\n",
       "      <td>45.02</td>\n",
       "    </tr>\n",
       "  </tbody>\n",
       "</table>\n",
       "<p>29220 rows × 5 columns</p>\n",
       "</div>"
      ],
      "text/plain": [
       "             date   evap     stor    elev  totIn\n",
       "0      01/01/1939   1.21  7552.05  350.39   2.96\n",
       "1      01/02/1939   1.24  7552.05  350.39   5.24\n",
       "2      01/03/1939   1.39  7552.05  350.39   5.39\n",
       "3      01/04/1939   1.12  7552.05  350.39   5.12\n",
       "4      01/05/1939 -11.97  7552.05  350.39   3.34\n",
       "...           ...    ...      ...     ...    ...\n",
       "29215  12/27/2018  -6.15  7552.05  350.39  13.58\n",
       "29216  12/28/2018 -12.62  7552.05  350.39  27.82\n",
       "29217  12/29/2018  -0.09  7552.05  350.39  82.71\n",
       "29218  12/30/2018  -5.17  7552.05  350.39  66.16\n",
       "29219  12/31/2018  -0.41  7552.05  350.39  45.02\n",
       "\n",
       "[29220 rows x 5 columns]"
      ]
     },
     "execution_count": 43,
     "metadata": {},
     "output_type": "execute_result"
    }
   ],
   "source": [
    "UIF"
   ]
  },
  {
   "cell_type": "code",
   "execution_count": 44,
   "metadata": {},
   "outputs": [],
   "source": [
    "evap_rate = UIF['evap']"
   ]
  },
  {
   "cell_type": "code",
   "execution_count": 45,
   "metadata": {},
   "outputs": [
    {
     "data": {
      "text/plain": [
       "1.21"
      ]
     },
     "execution_count": 45,
     "metadata": {},
     "output_type": "execute_result"
    }
   ],
   "source": [
    "evap_rate[0]"
   ]
  },
  {
   "cell_type": "code",
   "execution_count": 46,
   "metadata": {},
   "outputs": [],
   "source": [
    "flow_pumpsite_actual = [min(x,flow_pumpsite) for x in arcade_flow.flow] #timeseries of flow to pumpsite"
   ]
  },
  {
   "cell_type": "code",
   "execution_count": 47,
   "metadata": {},
   "outputs": [],
   "source": [
    "pumped = [max(min(pump_capacity,x),0) for x in arcade_flow.flow-flow_pumpsite_actual] #timeseries of pumped water from available reservoir volume\n"
   ]
  },
  {
   "cell_type": "code",
   "execution_count": 48,
   "metadata": {},
   "outputs": [],
   "source": [
    "flow_reservoir = arcade_flow.flow * DA_reservoir/DA_arcade   #timeseries of flow into reservoir (scaled by reservoir area/basin area"
   ]
  },
  {
   "cell_type": "code",
   "execution_count": 49,
   "metadata": {},
   "outputs": [],
   "source": [
    "flow_surplus = flow_reservoir-[min(x,flow_reservoir_min) for x in flow_reservoir]"
   ]
  },
  {
   "cell_type": "code",
   "execution_count": 50,
   "metadata": {},
   "outputs": [
    {
     "data": {
      "text/plain": [
       "0         96.020702\n",
       "1         95.278362\n",
       "2         95.253617\n",
       "3         95.080405\n",
       "4         96.961000\n",
       "            ...    \n",
       "29215    102.874979\n",
       "29216    140.759087\n",
       "29217    236.694219\n",
       "29218    160.059939\n",
       "29219    146.450364\n",
       "Name: flow, Length: 29220, dtype: float64"
      ]
     },
     "execution_count": 50,
     "metadata": {},
     "output_type": "execute_result"
    }
   ],
   "source": [
    "available = flow_surplus+pumped\n",
    "\n",
    "available"
   ]
  },
  {
   "cell_type": "code",
   "execution_count": 51,
   "metadata": {},
   "outputs": [],
   "source": [
    "n = 15 #how many guesses \n",
    "\n",
    "demand_ls = np.linspace(15,30,n) #the range of guesses\n",
    "\n",
    "storage = np.zeros([len(available),n])\n",
    "storage[0,:] = maximum_storage\n",
    "\n",
    "evaporation_ts = np.zeros([len(available),1])\n",
    "SA_ts = np.zeros([len(available),1])\n",
    "SA_U_ts = np.zeros([len(available),1])"
   ]
  },
  {
   "cell_type": "code",
   "execution_count": 52,
   "metadata": {},
   "outputs": [
    {
     "data": {
      "text/plain": [
       "array([ 1.21,  1.24,  1.39, ..., -0.09, -5.17, -0.41])"
      ]
     },
     "execution_count": 52,
     "metadata": {},
     "output_type": "execute_result"
    }
   ],
   "source": [
    "evap_rate.values"
   ]
  },
  {
   "cell_type": "code",
   "execution_count": 74,
   "metadata": {},
   "outputs": [
    {
     "name": "stderr",
     "output_type": "stream",
     "text": [
      "100%|██████████| 15/15 [02:34<00:00, 10.33s/it]\n"
     ]
    }
   ],
   "source": [
    "\n",
    "for j in tqdm(np.arange(0,len(demand_ls))):\n",
    "    demand = demand_ls[j]\n",
    "    for i in np.arange(1,len(available)):\n",
    "        index = np.argmin(np.abs(SAE_volume-storage[i-1,j]))\n",
    "        #lower, upper bounds of reservoir volume at timestep i\n",
    "        [vol_L, vol_U] = SAE_volume[index], SAE_volume[index+1]\n",
    "        #lower, upper bounds of reservoir surface area at timestep i\n",
    "        [SA_L, SA_U] = SAE_surfacearea[index],SAE_surfacearea[index+1]\n",
    "        evap_loss = evap_rate.values[i]/seconds_in_day * (SA_L + (storage[i-1,j] - vol_L)/(vol_U-vol_L)*(SA_U-SA_L))\n",
    "        demand_cfs = demand \n",
    "        storage_endofday = min(storage[i-1,j]-demand_cfs-evap_loss+available[i-1],maximum_storage)\n",
    "        storage[i,j] = storage_endofday\n",
    "        del index, vol_L, vol_U, SA_L, SA_U"
   ]
  },
  {
   "cell_type": "code",
   "execution_count": 78,
   "metadata": {},
   "outputs": [
    {
     "data": {
      "text/plain": [
       "Text(0.5, 0, 'Date')"
      ]
     },
     "execution_count": 78,
     "metadata": {},
     "output_type": "execute_result"
    },
    {
     "data": {
      "image/png": "[encoded data removed]",
      "text/plain": [
       "<Figure size 1080x1440 with 15 Axes>"
      ]
     },
     "metadata": {
      "needs_background": "light"
     },
     "output_type": "display_data"
    }
   ],
   "source": [
    "fig, ax = plt.subplots(ncols=int(n/5), nrows=int(n/3),figsize=[15,20])\n",
    "[nc, nr] = ax.shape\n",
    "count = 0\n",
    "for i in np.arange(0,nc):\n",
    "    for j in np.arange(0,nr):\n",
    "        ax[i,j].plot(dates,storage[:,count]/MG_to_cfs)\n",
    "        ax[i,j].plot(dates,minimum_storage*np.ones([len(arcade_flow.date),1]),'r')\n",
    "        ax[i,j].set(title='demand='+str(np.round(demand_ls[count],2))+ 'MG')\n",
    "        if count%3==0:\n",
    "            ax[i,j].set(ylabel='MG')\n",
    "        \n",
    "        count = count+1\n",
    "\n",
    "\n",
    "plt.xlabel('Date')"
   ]
  },
  {
   "cell_type": "code",
   "execution_count": null,
   "metadata": {},
   "outputs": [],
   "source": [
    "plt.figure()\n",
    "plt.plot(demand_ls,(np.min(storage,0)-minimum_storage),'.-')\n",
    "plt.plot(demand_ls,np.zeros(demand_ls.shape),'r')"
   ]
  },
  {
   "cell_type": "code",
   "execution_count": null,
   "metadata": {},
   "outputs": [],
   "source": [
    "index = np.argmin(abs(np.min(storage,0)-minimum_storage))\n",
    "index"
   ]
  },
  {
   "cell_type": "code",
   "execution_count": 77,
   "metadata": {},
   "outputs": [
    {
     "data": {
      "text/plain": [
       "array([15.        , 16.07142857, 17.14285714, 18.21428571, 19.28571429,\n",
       "       20.35714286, 21.42857143, 22.5       , 23.57142857, 24.64285714,\n",
       "       25.71428571, 26.78571429, 27.85714286, 28.92857143, 30.        ])"
      ]
     },
     "execution_count": 77,
     "metadata": {},
     "output_type": "execute_result"
    }
   ],
   "source": [
    "demand_ls"
   ]
  },
  {
   "cell_type": "code",
   "execution_count": null,
   "metadata": {},
   "outputs": [],
   "source": []
  },
  {
   "cell_type": "code",
   "execution_count": null,
   "metadata": {},
   "outputs": [],
   "source": []
  }
 ],
 "metadata": {
  "kernelspec": {
   "display_name": "Python 3",
   "language": "python",
   "name": "python3"
  },
  "language_info": {
   "codemirror_mode": {
    "name": "ipython",
    "version": 3
   },
   "file_extension": ".py",
   "mimetype": "text/x-python",
   "name": "python",
   "nbconvert_exporter": "python",
   "pygments_lexer": "ipython3",
   "version": "3.8.3"
  }
 },
 "nbformat": 4,
 "nbformat_minor": 4
}
