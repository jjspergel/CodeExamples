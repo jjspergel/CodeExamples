{
 "cells": [
  {
   "cell_type": "code",
   "execution_count": 1,
   "metadata": {},
   "outputs": [],
   "source": [
    "# Reservoir Analysis for Bear Creek"
   ]
  },
  {
   "cell_type": "code",
   "execution_count": 1,
   "metadata": {},
   "outputs": [],
   "source": [
    "from tqdm import tqdm"
   ]
  },
  {
   "cell_type": "code",
   "execution_count": 2,
   "metadata": {},
   "outputs": [],
   "source": [
    "import numpy as np\n",
    "import pandas as pd\n",
    "import datetime as dt\n",
    "from matplotlib import pyplot as plt\n",
    "\n",
    "import pyproj as proj"
   ]
  },
  {
   "cell_type": "code",
   "execution_count": 33,
   "metadata": {},
   "outputs": [],
   "source": [
    "# Physical Data\n",
    "MG_to_cfs = 1.547 #cfs*day^-1/1e6 gallons*day^-1\n",
    "seconds_in_day = 24*60*60\n",
    "AF_to_ft3 = 43560 \n",
    "\n",
    "\n",
    "DA_arcade = 332 #drainage area of Arcade (sq mi)\n",
    "flow_pumpsite = 60.4 # non-depletable flow at pumpsite (cfs)\n",
    "pump_capacity =  92.82 #cfs\n",
    "DA_reservoir = 8.215234375 #sq mi\n",
    "flow_reservoir_min = 4 #non-depletable flow out of reservoir (cfs)\n",
    "SAE = pd.read_csv('BEAM_bearcreekSAE.csv')\n",
    "#SAE['Cumulative Percentage of Volume'] = np.float_([str.strip(percent,'%') for percent in SAE['Cumulative Percentage of Volume']])\n",
    "SAE_volume = SAE['Storage']\n",
    "SAE_surfacearea = SAE['Area']\n",
    "maximum_storage = max(SAE_volume)#np.float(MG_to_cfs*SAE[SAE['Cumulative Percentage of Volume']==100]['Reservoir Volume \\n(MG)'])#maximum storage of reservoir, converted to cfs \n",
    "minimum_storage = MG_to_cfs * 637\n",
    "\n",
    "arcade_flow=pd.read_csv('gage_streamflow_cfs.txt',sep='\\t',skiprows=[0,1,2],names=['date','flow'])"
   ]
  },
  {
   "cell_type": "code",
   "execution_count": 34,
   "metadata": {},
   "outputs": [
    {
     "data": {
      "text/html": [
       "<div>\n",
       "<style scoped>\n",
       "    .dataframe tbody tr th:only-of-type {\n",
       "        vertical-align: middle;\n",
       "    }\n",
       "\n",
       "    .dataframe tbody tr th {\n",
       "        vertical-align: top;\n",
       "    }\n",
       "\n",
       "    .dataframe thead th {\n",
       "        text-align: right;\n",
       "    }\n",
       "</style>\n",
       "<table border=\"1\" class=\"dataframe\">\n",
       "  <thead>\n",
       "    <tr style=\"text-align: right;\">\n",
       "      <th></th>\n",
       "      <th>date</th>\n",
       "      <th>flow</th>\n",
       "    </tr>\n",
       "  </thead>\n",
       "  <tbody>\n",
       "    <tr>\n",
       "      <th>0</th>\n",
       "      <td>01/01/1939</td>\n",
       "      <td>291</td>\n",
       "    </tr>\n",
       "    <tr>\n",
       "      <th>1</th>\n",
       "      <td>01/02/1939</td>\n",
       "      <td>261</td>\n",
       "    </tr>\n",
       "    <tr>\n",
       "      <th>2</th>\n",
       "      <td>01/03/1939</td>\n",
       "      <td>260</td>\n",
       "    </tr>\n",
       "    <tr>\n",
       "      <th>3</th>\n",
       "      <td>01/04/1939</td>\n",
       "      <td>253</td>\n",
       "    </tr>\n",
       "    <tr>\n",
       "      <th>4</th>\n",
       "      <td>01/05/1939</td>\n",
       "      <td>329</td>\n",
       "    </tr>\n",
       "    <tr>\n",
       "      <th>...</th>\n",
       "      <td>...</td>\n",
       "      <td>...</td>\n",
       "    </tr>\n",
       "    <tr>\n",
       "      <th>29218</th>\n",
       "      <td>12/30/2018</td>\n",
       "      <td>2879</td>\n",
       "    </tr>\n",
       "    <tr>\n",
       "      <th>29219</th>\n",
       "      <td>12/31/2018</td>\n",
       "      <td>2329</td>\n",
       "    </tr>\n",
       "    <tr>\n",
       "      <th>29220</th>\n",
       "      <td>AVG</td>\n",
       "      <td>446</td>\n",
       "    </tr>\n",
       "    <tr>\n",
       "      <th>29221</th>\n",
       "      <td>MIN</td>\n",
       "      <td>17</td>\n",
       "    </tr>\n",
       "    <tr>\n",
       "      <th>29222</th>\n",
       "      <td>MAX</td>\n",
       "      <td>11883</td>\n",
       "    </tr>\n",
       "  </tbody>\n",
       "</table>\n",
       "<p>29223 rows × 2 columns</p>\n",
       "</div>"
      ],
      "text/plain": [
       "             date   flow\n",
       "0      01/01/1939    291\n",
       "1      01/02/1939    261\n",
       "2      01/03/1939    260\n",
       "3      01/04/1939    253\n",
       "4      01/05/1939    329\n",
       "...           ...    ...\n",
       "29218  12/30/2018   2879\n",
       "29219  12/31/2018   2329\n",
       "29220        AVG     446\n",
       "29221        MIN      17\n",
       "29222        MAX   11883\n",
       "\n",
       "[29223 rows x 2 columns]"
      ]
     },
     "execution_count": 34,
     "metadata": {},
     "output_type": "execute_result"
    }
   ],
   "source": [
    "arcade_flow"
   ]
  },
  {
   "cell_type": "code",
   "execution_count": 35,
   "metadata": {},
   "outputs": [],
   "source": [
    "UIF = pd.read_csv('bearcreekreservoir_UIF_evap.txt',sep='\\t', header=0, skiprows=[1,2],\n",
    "                 names=['date','evap','stor','elev','totIn'])"
   ]
  },
  {
   "cell_type": "code",
   "execution_count": 36,
   "metadata": {},
   "outputs": [
    {
     "data": {
      "text/html": [
       "<div>\n",
       "<style scoped>\n",
       "    .dataframe tbody tr th:only-of-type {\n",
       "        vertical-align: middle;\n",
       "    }\n",
       "\n",
       "    .dataframe tbody tr th {\n",
       "        vertical-align: top;\n",
       "    }\n",
       "\n",
       "    .dataframe thead th {\n",
       "        text-align: right;\n",
       "    }\n",
       "</style>\n",
       "<table border=\"1\" class=\"dataframe\">\n",
       "  <thead>\n",
       "    <tr style=\"text-align: right;\">\n",
       "      <th></th>\n",
       "      <th>date</th>\n",
       "      <th>evap</th>\n",
       "      <th>stor</th>\n",
       "      <th>elev</th>\n",
       "      <th>totIn</th>\n",
       "    </tr>\n",
       "  </thead>\n",
       "  <tbody>\n",
       "    <tr>\n",
       "      <th>0</th>\n",
       "      <td>01/01/1939</td>\n",
       "      <td>1.21</td>\n",
       "      <td>7552.05</td>\n",
       "      <td>350.39</td>\n",
       "      <td>2.96</td>\n",
       "    </tr>\n",
       "    <tr>\n",
       "      <th>1</th>\n",
       "      <td>01/02/1939</td>\n",
       "      <td>1.24</td>\n",
       "      <td>7552.05</td>\n",
       "      <td>350.39</td>\n",
       "      <td>5.24</td>\n",
       "    </tr>\n",
       "    <tr>\n",
       "      <th>2</th>\n",
       "      <td>01/03/1939</td>\n",
       "      <td>1.39</td>\n",
       "      <td>7552.05</td>\n",
       "      <td>350.39</td>\n",
       "      <td>5.39</td>\n",
       "    </tr>\n",
       "    <tr>\n",
       "      <th>3</th>\n",
       "      <td>01/04/1939</td>\n",
       "      <td>1.12</td>\n",
       "      <td>7552.05</td>\n",
       "      <td>350.39</td>\n",
       "      <td>5.12</td>\n",
       "    </tr>\n",
       "    <tr>\n",
       "      <th>4</th>\n",
       "      <td>01/05/1939</td>\n",
       "      <td>-11.97</td>\n",
       "      <td>7552.05</td>\n",
       "      <td>350.39</td>\n",
       "      <td>3.34</td>\n",
       "    </tr>\n",
       "    <tr>\n",
       "      <th>...</th>\n",
       "      <td>...</td>\n",
       "      <td>...</td>\n",
       "      <td>...</td>\n",
       "      <td>...</td>\n",
       "      <td>...</td>\n",
       "    </tr>\n",
       "    <tr>\n",
       "      <th>29215</th>\n",
       "      <td>12/27/2018</td>\n",
       "      <td>-6.15</td>\n",
       "      <td>7552.05</td>\n",
       "      <td>350.39</td>\n",
       "      <td>13.58</td>\n",
       "    </tr>\n",
       "    <tr>\n",
       "      <th>29216</th>\n",
       "      <td>12/28/2018</td>\n",
       "      <td>-12.62</td>\n",
       "      <td>7552.05</td>\n",
       "      <td>350.39</td>\n",
       "      <td>27.82</td>\n",
       "    </tr>\n",
       "    <tr>\n",
       "      <th>29217</th>\n",
       "      <td>12/29/2018</td>\n",
       "      <td>-0.09</td>\n",
       "      <td>7552.05</td>\n",
       "      <td>350.39</td>\n",
       "      <td>82.71</td>\n",
       "    </tr>\n",
       "    <tr>\n",
       "      <th>29218</th>\n",
       "      <td>12/30/2018</td>\n",
       "      <td>-5.17</td>\n",
       "      <td>7552.05</td>\n",
       "      <td>350.39</td>\n",
       "      <td>66.16</td>\n",
       "    </tr>\n",
       "    <tr>\n",
       "      <th>29219</th>\n",
       "      <td>12/31/2018</td>\n",
       "      <td>-0.41</td>\n",
       "      <td>7552.05</td>\n",
       "      <td>350.39</td>\n",
       "      <td>45.02</td>\n",
       "    </tr>\n",
       "  </tbody>\n",
       "</table>\n",
       "<p>29220 rows × 5 columns</p>\n",
       "</div>"
      ],
      "text/plain": [
       "             date   evap     stor    elev  totIn\n",
       "0      01/01/1939   1.21  7552.05  350.39   2.96\n",
       "1      01/02/1939   1.24  7552.05  350.39   5.24\n",
       "2      01/03/1939   1.39  7552.05  350.39   5.39\n",
       "3      01/04/1939   1.12  7552.05  350.39   5.12\n",
       "4      01/05/1939 -11.97  7552.05  350.39   3.34\n",
       "...           ...    ...      ...     ...    ...\n",
       "29215  12/27/2018  -6.15  7552.05  350.39  13.58\n",
       "29216  12/28/2018 -12.62  7552.05  350.39  27.82\n",
       "29217  12/29/2018  -0.09  7552.05  350.39  82.71\n",
       "29218  12/30/2018  -5.17  7552.05  350.39  66.16\n",
       "29219  12/31/2018  -0.41  7552.05  350.39  45.02\n",
       "\n",
       "[29220 rows x 5 columns]"
      ]
     },
     "execution_count": 36,
     "metadata": {},
     "output_type": "execute_result"
    }
   ],
   "source": [
    "UIF"
   ]
  },
  {
   "cell_type": "code",
   "execution_count": 37,
   "metadata": {},
   "outputs": [],
   "source": [
    "evap_rate = UIF['evap']"
   ]
  },
  {
   "cell_type": "code",
   "execution_count": 38,
   "metadata": {},
   "outputs": [
    {
     "data": {
      "text/plain": [
       "1.21"
      ]
     },
     "execution_count": 38,
     "metadata": {},
     "output_type": "execute_result"
    }
   ],
   "source": [
    "evap_rate[0]"
   ]
  },
  {
   "cell_type": "code",
   "execution_count": 39,
   "metadata": {},
   "outputs": [],
   "source": [
    "flow_pumpsite_actual = [min(x,flow_pumpsite) for x in arcade_flow.flow] #timeseries of flow to pumpsite"
   ]
  },
  {
   "cell_type": "code",
   "execution_count": 40,
   "metadata": {},
   "outputs": [],
   "source": [
    "pumped = [max(min(pump_capacity,x),0) for x in arcade_flow.flow-flow_pumpsite_actual] #timeseries of pumped water from available reservoir volume\n"
   ]
  },
  {
   "cell_type": "code",
   "execution_count": 41,
   "metadata": {},
   "outputs": [],
   "source": [
    "flow_reservoir = arcade_flow.flow * DA_reservoir/DA_arcade   #timeseries of flow into reservoir (scaled by reservoir area/basin area"
   ]
  },
  {
   "cell_type": "code",
   "execution_count": 42,
   "metadata": {},
   "outputs": [],
   "source": [
    "flow_surplus = flow_reservoir-[min(x,flow_reservoir_min) for x in flow_reservoir]"
   ]
  },
  {
   "cell_type": "code",
   "execution_count": 43,
   "metadata": {},
   "outputs": [
    {
     "data": {
      "text/plain": [
       "0         96.020702\n",
       "1         95.278362\n",
       "2         95.253617\n",
       "3         95.080405\n",
       "4         96.961000\n",
       "            ...    \n",
       "29218    160.059939\n",
       "29219    146.450364\n",
       "29220     99.856128\n",
       "29221      0.000000\n",
       "29222    382.861054\n",
       "Name: flow, Length: 29223, dtype: float64"
      ]
     },
     "execution_count": 43,
     "metadata": {},
     "output_type": "execute_result"
    }
   ],
   "source": [
    "available = flow_surplus+pumped\n",
    "\n",
    "available"
   ]
  },
  {
   "cell_type": "code",
   "execution_count": 44,
   "metadata": {},
   "outputs": [],
   "source": [
    "n = 15 #how many guesses \n",
    "\n",
    "demand_ls = np.linspace(15,30,n) #the range of guesses\n",
    "\n",
    "storage = np.zeros([len(available),n])\n",
    "storage[0,:] = maximum_storage\n",
    "\n",
    "evaporation_ts = np.zeros([len(available),1])\n",
    "SA_ts = np.zeros([len(available),1])\n",
    "SA_U_ts = np.zeros([len(available),1])"
   ]
  },
  {
   "cell_type": "code",
   "execution_count": 49,
   "metadata": {},
   "outputs": [
    {
     "data": {
      "text/plain": [
       "array([ 1.21,  1.24,  1.39, ..., -0.09, -5.17, -0.41])"
      ]
     },
     "execution_count": 49,
     "metadata": {},
     "output_type": "execute_result"
    }
   ],
   "source": [
    "evap_rate.values"
   ]
  },
  {
   "cell_type": "code",
   "execution_count": 51,
   "metadata": {},
   "outputs": [
    {
     "name": "stderr",
     "output_type": "stream",
     "text": [
      "  0%|          | 0/15 [00:08<?, ?it/s]\n"
     ]
    },
    {
     "ename": "IndexError",
     "evalue": "index 29220 is out of bounds for axis 0 with size 29220",
     "output_type": "error",
     "traceback": [
      "\u001b[0;31m---------------------------------------------------------------------------\u001b[0m",
      "\u001b[0;31mIndexError\u001b[0m                                Traceback (most recent call last)",
      "Cell \u001b[0;32mIn [51], line 9\u001b[0m\n\u001b[1;32m      7\u001b[0m \u001b[38;5;66;03m#lower, upper bounds of reservoir surface area at timestep i\u001b[39;00m\n\u001b[1;32m      8\u001b[0m [SA_L, SA_U] \u001b[38;5;241m=\u001b[39m SAE_surfacearea[index],SAE_surfacearea[index\u001b[38;5;241m+\u001b[39m\u001b[38;5;241m1\u001b[39m]\n\u001b[0;32m----> 9\u001b[0m evap_loss \u001b[38;5;241m=\u001b[39m evap_rate\u001b[38;5;241m.\u001b[39mvalues[i]\u001b[38;5;241m/\u001b[39mseconds_in_day \u001b[38;5;241m*\u001b[39m (SA_L \u001b[38;5;241m+\u001b[39m (storage[i\u001b[38;5;241m-\u001b[39m\u001b[38;5;241m1\u001b[39m,j]\u001b[38;5;241m/\u001b[39mMG_to_cfs \u001b[38;5;241m-\u001b[39m vol_L)\u001b[38;5;241m/\u001b[39m(vol_U\u001b[38;5;241m-\u001b[39mvol_L)\u001b[38;5;241m*\u001b[39m(SA_U\u001b[38;5;241m-\u001b[39mSA_L))\n\u001b[1;32m     10\u001b[0m demand_cfs \u001b[38;5;241m=\u001b[39m demand \u001b[38;5;241m*\u001b[39m MG_to_cfs\n\u001b[1;32m     11\u001b[0m storage_endofday \u001b[38;5;241m=\u001b[39m \u001b[38;5;28mmin\u001b[39m(storage[i\u001b[38;5;241m-\u001b[39m\u001b[38;5;241m1\u001b[39m,j]\u001b[38;5;241m-\u001b[39mdemand_cfs\u001b[38;5;241m-\u001b[39mevap_loss\u001b[38;5;241m+\u001b[39mavailable[i\u001b[38;5;241m-\u001b[39m\u001b[38;5;241m1\u001b[39m],maximum_storage)\n",
      "\u001b[0;31mIndexError\u001b[0m: index 29220 is out of bounds for axis 0 with size 29220"
     ]
    }
   ],
   "source": [
    "\n",
    "for j in tqdm(np.arange(0,len(demand_ls))):\n",
    "    demand = demand_ls[j]\n",
    "    for i in np.arange(1,len(available)-1):\n",
    "        index = np.argmin(np.abs(SAE_volume-storage[i-1,j]/MG_to_cfs))\n",
    "        #lower, upper bounds of reservoir volume at timestep i\n",
    "        [vol_L, vol_U] = SAE_volume[index], SAE_volume[index+1]\n",
    "        #lower, upper bounds of reservoir surface area at timestep i\n",
    "        [SA_L, SA_U] = SAE_surfacearea[index],SAE_surfacearea[index+1]\n",
    "        evap_loss = evap_rate.values[i]/seconds_in_day * (SA_L + (storage[i-1,j]/MG_to_cfs - vol_L)/(vol_U-vol_L)*(SA_U-SA_L))\n",
    "        demand_cfs = demand * MG_to_cfs\n",
    "        storage_endofday = min(storage[i-1,j]-demand_cfs-evap_loss+available[i-1],maximum_storage)\n",
    "        storage[i,j] = storage_endofday\n",
    "        del index, vol_L, vol_U, SA_L, SA_U"
   ]
  },
  {
   "cell_type": "code",
   "execution_count": null,
   "metadata": {},
   "outputs": [],
   "source": [
    "fig, ax = plt.subplots(ncols=int(n/5), nrows=int(n/3),figsize=[15,20])\n",
    "[nc, nr] = ax.shape\n",
    "count = 0\n",
    "for i in np.arange(0,nc):\n",
    "    for j in np.arange(0,nr):\n",
    "        ax[i,j].plot(arcade_flow.dates,storage[:,count])\n",
    "        ax[i,j].plot(arcade_flow.dates,minimum_storage*np.ones([len(arcade_flow.dates),1]),'r')\n",
    "        ax[i,j].set(title='demand='+str(np.round(demand_ls[count],2))+ 'MG')\n",
    "        if count%3==0:\n",
    "            ax[i,j].set(ylabel='MG')\n",
    "        \n",
    "        count = count+1\n",
    "\n",
    "\n",
    "plt.xlabel('Date')"
   ]
  },
  {
   "cell_type": "code",
   "execution_count": null,
   "metadata": {},
   "outputs": [],
   "source": [
    "plt.figure()\n",
    "plt.plot(demand_ls,(np.min(storage,0)-minimum_storage),'.-')\n",
    "plt.plot(demand_ls,np.zeros(demand_ls.shape),'r')"
   ]
  },
  {
   "cell_type": "code",
   "execution_count": null,
   "metadata": {},
   "outputs": [],
   "source": [
    "index = np.argmin(abs(np.min(storage,0)-minimum_storage))\n",
    "index"
   ]
  },
  {
   "cell_type": "code",
   "execution_count": null,
   "metadata": {},
   "outputs": [],
   "source": [
    "demand_ls[index]"
   ]
  },
  {
   "cell_type": "code",
   "execution_count": null,
   "metadata": {},
   "outputs": [],
   "source": []
  },
  {
   "cell_type": "code",
   "execution_count": null,
   "metadata": {},
   "outputs": [],
   "source": []
  }
 ],
 "metadata": {
  "kernelspec": {
   "display_name": "Python 3 (ipykernel)",
   "language": "python",
   "name": "python3"
  },
  "language_info": {
   "codemirror_mode": {
    "name": "ipython",
    "version": 3
   },
   "file_extension": ".py",
   "mimetype": "text/x-python",
   "name": "python",
   "nbconvert_exporter": "python",
   "pygments_lexer": "ipython3",
   "version": "3.10.6"
  }
 },
 "nbformat": 4,
 "nbformat_minor": 4
}
